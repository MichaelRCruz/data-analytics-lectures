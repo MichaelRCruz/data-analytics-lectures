{
  "nbformat": 4,
  "nbformat_minor": 0,
  "metadata": {
    "colab": {
      "name": "11_1_A-warmup",
      "provenance": [],
      "include_colab_link": true
    },
    "kernelspec": {
      "name": "python3",
      "display_name": "Python 3"
    }
  },
  "cells": [
    {
      "cell_type": "markdown",
      "metadata": {
        "id": "view-in-github",
        "colab_type": "text"
      },
      "source": [
        "<a href=\"https://colab.research.google.com/github/Thinkful-Ed/data-analytics-lectures/blob/master/week-11/11-1-a-intro-to-programming/11_1_A_warmup.ipynb\" target=\"_parent\"><img src=\"https://colab.research.google.com/assets/colab-badge.svg\" alt=\"Open In Colab\"/></a>"
      ]
    },
    {
      "cell_type": "code",
      "metadata": {
        "id": "qrNyWB1Tznak",
        "colab_type": "code",
        "outputId": "ea04d582-bc02-437c-e984-29e8ef070a7d",
        "colab": {
          "base_uri": "https://localhost:8080/",
          "height": 51
        }
      },
      "source": [
        "print(\"hello\")\n",
        "print(1 + 1)"
      ],
      "execution_count": 0,
      "outputs": [
        {
          "output_type": "stream",
          "text": [
            "hello\n",
            "2\n"
          ],
          "name": "stdout"
        }
      ]
    },
    {
      "cell_type": "markdown",
      "metadata": {
        "id": "1oirh900z7OY",
        "colab_type": "text"
      },
      "source": [
        "# Python can operate on text and numbers\n",
        "![mind-blown](https://media.giphy.com/media/xT0xeJpnrWC4XWblEk/giphy.gif)\n",
        "\n"
      ]
    }
  ]
}