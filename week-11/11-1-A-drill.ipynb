{
  "nbformat": 4,
  "nbformat_minor": 0,
  "metadata": {
    "colab": {
      "name": "11-1-A-drill",
      "provenance": []
    },
    "kernelspec": {
      "name": "python3",
      "display_name": "Python 3"
    }
  },
  "cells": [
    {
      "cell_type": "markdown",
      "metadata": {
        "id": "1oirh900z7OY",
        "colab_type": "text"
      },
      "source": [
        "Python can operate on text and numbers\n",
        "![mind-blown](https://media.giphy.com/media/xT0xeJpnrWC4XWblEk/giphy.gif)\n",
        "\n"
      ]
    },
    {
      "cell_type": "code",
      "metadata": {
        "id": "qrNyWB1Tznak",
        "colab_type": "code",
        "outputId": "ea04d582-bc02-437c-e984-29e8ef070a7d",
        "colab": {
          "base_uri": "https://localhost:8080/",
          "height": 51
        }
      },
      "source": [
        "print(\"hello\")\n",
        "print(1 + 1)"
      ],
      "execution_count": 0,
      "outputs": [
        {
          "output_type": "stream",
          "text": [
            "hello\n",
            "2\n"
          ],
          "name": "stdout"
        }
      ]
    }
  ]
}